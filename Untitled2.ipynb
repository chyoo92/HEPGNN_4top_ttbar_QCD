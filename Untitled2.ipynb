{
 "cells": [
  {
   "cell_type": "code",
   "execution_count": 2,
   "metadata": {},
   "outputs": [],
   "source": [
    "import torch\n",
    "import os\n",
    "import numpy as np\n",
    "import glob\n",
    "from torch_geometric.nn import radius_graph"
   ]
  },
  {
   "cell_type": "code",
   "execution_count": 3,
   "metadata": {},
   "outputs": [],
   "source": [
    "path1 = '/store/hep/users/yewzzang/4top_QCD_ttbar/data_graph/pt/*_weight_*/*/*'\n",
    "list_name1 = glob.glob(path1)\n",
    "\n",
    "path2 = '/store/hep/users/yewzzang/4top_QCD_ttbar/data_graph/pt/*_weight_*/*'\n",
    "list_name2 = glob.glob(path2)"
   ]
  },
  {
   "cell_type": "code",
   "execution_count": 4,
   "metadata": {},
   "outputs": [],
   "source": [
    "list_name = list_name1 + list_name2\n",
    "# list_name = list_name20\n"
   ]
  },
  {
   "cell_type": "code",
   "execution_count": 5,
   "metadata": {},
   "outputs": [],
   "source": [
    "file_list_pt = [file for file in list_name if file.endswith(\".pt\")]"
   ]
  },
  {
   "cell_type": "code",
   "execution_count": 13,
   "metadata": {
    "scrolled": false
   },
   "outputs": [
    {
     "name": "stdout",
     "output_type": "stream",
     "text": [
      "/store/hep/users/yewzzang/4top_QCD_ttbar/data_graph/pt/4top_weight_210709/ex1_v2_210520/output_ex1_v2-powheg-79.pt\n",
      "/store/hep/users/yewzzang/4top_QCD_ttbar/data_graph/pt/4top_alledge/ex1_v2_210520/\n"
     ]
    },
    {
     "ename": "NameError",
     "evalue": "name 'stop' is not defined",
     "output_type": "error",
     "traceback": [
      "\u001b[0;31m---------------------------------------------------------------------------\u001b[0m",
      "\u001b[0;31mNameError\u001b[0m                                 Traceback (most recent call last)",
      "\u001b[0;32m<ipython-input-13-d6dfcad53250>\u001b[0m in \u001b[0;36m<module>\u001b[0;34m\u001b[0m\n\u001b[1;32m     22\u001b[0m         \u001b[0msave_file\u001b[0m \u001b[0;34m=\u001b[0m \u001b[0msave_path\u001b[0m \u001b[0;34m+\u001b[0m \u001b[0mstr\u001b[0m\u001b[0;34m(\u001b[0m\u001b[0mtest2\u001b[0m\u001b[0;34m)\u001b[0m\u001b[0;34m\u001b[0m\u001b[0;34m\u001b[0m\u001b[0m\n\u001b[1;32m     23\u001b[0m     \u001b[0mprint\u001b[0m\u001b[0;34m(\u001b[0m\u001b[0msave_path\u001b[0m\u001b[0;34m)\u001b[0m\u001b[0;34m\u001b[0m\u001b[0;34m\u001b[0m\u001b[0m\n\u001b[0;32m---> 24\u001b[0;31m     \u001b[0mstop\u001b[0m\u001b[0;34m\u001b[0m\u001b[0;34m\u001b[0m\u001b[0m\n\u001b[0m\u001b[1;32m     25\u001b[0m     \u001b[0;32mif\u001b[0m \u001b[0;32mnot\u001b[0m \u001b[0mos\u001b[0m\u001b[0;34m.\u001b[0m\u001b[0mpath\u001b[0m\u001b[0;34m.\u001b[0m\u001b[0mexists\u001b[0m\u001b[0;34m(\u001b[0m\u001b[0msave_path\u001b[0m\u001b[0;34m)\u001b[0m\u001b[0;34m:\u001b[0m \u001b[0mos\u001b[0m\u001b[0;34m.\u001b[0m\u001b[0mmakedirs\u001b[0m\u001b[0;34m(\u001b[0m\u001b[0msave_path\u001b[0m\u001b[0;34m)\u001b[0m\u001b[0;34m\u001b[0m\u001b[0;34m\u001b[0m\u001b[0m\n\u001b[1;32m     26\u001b[0m     \u001b[0mtorch\u001b[0m\u001b[0;34m.\u001b[0m\u001b[0msave\u001b[0m\u001b[0;34m(\u001b[0m\u001b[0mfile\u001b[0m\u001b[0;34m,\u001b[0m \u001b[0msave_file\u001b[0m\u001b[0;34m)\u001b[0m\u001b[0;34m\u001b[0m\u001b[0;34m\u001b[0m\u001b[0m\n",
      "\u001b[0;31mNameError\u001b[0m: name 'stop' is not defined"
     ]
    }
   ],
   "source": [
    "weights = np.zeros(0)\n",
    "for i in range(len(file_list_pt)):\n",
    "    file_name = file_list_pt[i]\n",
    "    print(file_name)\n",
    "    \n",
    "    file = torch.load(file_name)\n",
    "    for j in range(len(file)):\n",
    "        pos = file[j].pos\n",
    "        edge_index = radius_graph(pos, r=15,loop=False)\n",
    "        \n",
    "        file[j].edge_index = edge_index\n",
    "     \n",
    "    test = file_name.split('/')[8:9][0].split('_')[0]\n",
    "    test1 = file_name.split('/')[9:10][0]\n",
    "    test2 = file_name.split('/')[-1:][0]\n",
    "    if test == 'ttbar':\n",
    "        print('ddd')\n",
    "        save_path = '/store/hep/users/yewzzang/4top_QCD_ttbar/data_graph/pt/'+ str(test) +'_alledge/' \n",
    "        save_file = save_path + str(test2)\n",
    "    else:\n",
    "        save_path = '/store/hep/users/yewzzang/4top_QCD_ttbar/data_graph/pt/'+ str(test) +'_alledge/' + str(test1) +'/'\n",
    "        save_file = save_path + str(test2)\n",
    " \n",
    "    if not os.path.exists(save_path): os.makedirs(save_path)\n",
    "    torch.save(file, save_file)\n",
    "    "
   ]
  },
  {
   "cell_type": "code",
   "execution_count": null,
   "metadata": {},
   "outputs": [],
   "source": []
  },
  {
   "cell_type": "code",
   "execution_count": null,
   "metadata": {},
   "outputs": [],
   "source": [
    "ff = torch.load('/store/hep/users/yewzzang/4top_QCD_ttbar/data_graph/pt/4top/ex1_v2_210520/output_ex1_v2-powheg-79.pt')"
   ]
  },
  {
   "cell_type": "code",
   "execution_count": null,
   "metadata": {},
   "outputs": [],
   "source": [
    "ff"
   ]
  },
  {
   "cell_type": "code",
   "execution_count": null,
   "metadata": {},
   "outputs": [],
   "source": []
  },
  {
   "cell_type": "code",
   "execution_count": null,
   "metadata": {},
   "outputs": [],
   "source": []
  }
 ],
 "metadata": {
  "kernelspec": {
   "display_name": "Python 3",
   "language": "python",
   "name": "python3"
  },
  "language_info": {
   "codemirror_mode": {
    "name": "ipython",
    "version": 3
   },
   "file_extension": ".py",
   "mimetype": "text/x-python",
   "name": "python",
   "nbconvert_exporter": "python",
   "pygments_lexer": "ipython3",
   "version": "3.7.9"
  }
 },
 "nbformat": 4,
 "nbformat_minor": 4
}
