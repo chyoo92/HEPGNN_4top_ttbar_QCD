{
 "cells": [
  {
   "cell_type": "code",
   "execution_count": null,
   "metadata": {},
   "outputs": [],
   "source": [
    "import pandas as pd\n",
    "import numpy as np\n",
    "predFile = '/users/yewzzang/HEPGCN/multi_noedge_pointconv_100000/prediction.csv'\n",
    "predonlyFile = '/users/yewzzang/HEPGCN/multi_noedge_pointconv_100000/predonly.csv'\n",
    "df = pd.read_csv(predFile)\n",
    "df2 = pd.read_csv(predonlyFile)\n",
    "\n"
   ]
  },
  {
   "cell_type": "code",
   "execution_count": null,
   "metadata": {},
   "outputs": [],
   "source": [
    "label = df['label']"
   ]
  },
  {
   "cell_type": "code",
   "execution_count": null,
   "metadata": {},
   "outputs": [],
   "source": [
    "label = np.array(label)"
   ]
  },
  {
   "cell_type": "code",
   "execution_count": null,
   "metadata": {},
   "outputs": [],
   "source": [
    "prediction = df2['prediction']"
   ]
  },
  {
   "cell_type": "code",
   "execution_count": null,
   "metadata": {},
   "outputs": [],
   "source": [
    "prediction = np.array(prediction)"
   ]
  },
  {
   "cell_type": "code",
   "execution_count": null,
   "metadata": {},
   "outputs": [],
   "source": [
    "\n",
    "prediction = prediction.reshape(-1,3)"
   ]
  },
  {
   "cell_type": "code",
   "execution_count": null,
   "metadata": {},
   "outputs": [],
   "source": [
    "a=prediction[:,0]  ## QCD\n",
    "b=prediction[:,1]  ## RPV\n",
    "c=prediction[:,2]  ## TTbar"
   ]
  },
  {
   "cell_type": "code",
   "execution_count": null,
   "metadata": {},
   "outputs": [],
   "source": [
    "for i in range(len(label)):\n",
    "    if label[i] == 2:\n",
    "        continue\n",
    "    elif label[i] == 1:\n",
    "        continue\n",
    "    else:\n",
    "        print(label[i])"
   ]
  },
  {
   "cell_type": "code",
   "execution_count": null,
   "metadata": {},
   "outputs": [],
   "source": [
    "x = 0.5 * a + c \n",
    "y = 0.5 * np.sqrt(3) * a"
   ]
  },
  {
   "cell_type": "code",
   "execution_count": null,
   "metadata": {},
   "outputs": [],
   "source": [
    "# QCD = np.array([0.5,0.5*np.sqrt(3)])\n",
    "# RPV = np.array([0,0])\n",
    "# TTbar = np.array([1,0])\n",
    "xx = np.array([0.5, 0, 1, 0.5])\n",
    "yy = np.array([0.5*np.sqrt(3), 0, 0, 0.5*np.sqrt(3)])"
   ]
  },
  {
   "cell_type": "code",
   "execution_count": null,
   "metadata": {},
   "outputs": [],
   "source": [
    "x_QCD = x[label == 0]\n",
    "y_QCD = y[label == 0]\n",
    "x_RPV = x[label == 1]\n",
    "y_RPV = y[label == 1]\n",
    "x_TTbar = x[label == 2] \n",
    "y_TTbar = y[label == 2]"
   ]
  },
  {
   "cell_type": "code",
   "execution_count": null,
   "metadata": {},
   "outputs": [],
   "source": [
    "import matplotlib.pyplot as plt"
   ]
  },
  {
   "cell_type": "code",
   "execution_count": null,
   "metadata": {},
   "outputs": [],
   "source": [
    "plt.plot(xx, yy, color = 'black', linewidth=1)\n",
    "plt.plot(x_QCD, y_QCD, '.', color = 'blue')\n",
    "plt.plot(x_RPV, y_RPV, '.', color = 'green')\n",
    "plt.plot(x_TTbar, y_TTbar, '.', color = 'red')\n",
    "plt.gcf().text(0.07, 0.05, 'RPV', fontsize=12,color='black')\n",
    "plt.gcf().text(0.93, 0.05, 'TTbar', fontsize=12,color='black')\n",
    "plt.gcf().text(0.5, 0.9, 'QCD', fontsize=12,color='black')\n",
    "plt.show()"
   ]
  },
  {
   "cell_type": "code",
   "execution_count": null,
   "metadata": {},
   "outputs": [],
   "source": [
    "plt.rcParams['lines.linewidth'] = 1\n",
    "plt.rcParams['lines.markersize'] = 5\n",
    "plt.rcParams[\"legend.loc\"] = 'upper right'\n",
    "plt.rcParams[\"legend.frameon\"] = False\n",
    "plt.rcParams[\"legend.loc\"] = 'upper left'"
   ]
  },
  {
   "cell_type": "code",
   "execution_count": null,
   "metadata": {},
   "outputs": [],
   "source": [
    "plt.rcParams['figure.figsize'] = (4*2, 3.5*3)\n",
    "ax1 = plt.subplot(3, 2, 1, xlabel='QCD')\n",
    "ax2 = plt.subplot(3, 2, 2, xlabel='RPV')\n",
    "ax3 = plt.subplot(3, 2, 3, xlabel='TTbar')\n",
    "ax4 = plt.subplot(3, 2, 4, xlabel='All')\n",
    "ax1.plot(xx, yy, color = 'black', linewidth=1)\n",
    "ax2.plot(xx, yy, color = 'black', linewidth=1)\n",
    "ax3.plot(xx, yy, color = 'black', linewidth=1)\n",
    "ax4.plot(xx, yy, color = 'black', linewidth=1)\n",
    "ax1.plot(x_QCD, y_QCD, '.', color = 'blue')\n",
    "ax2.plot(x_RPV, y_RPV, '.', color = 'green')\n",
    "ax3.plot(x_TTbar, y_TTbar, '.', color = 'red')\n",
    "ax4.plot(x_QCD, y_QCD, '.', color = 'blue')\n",
    "ax4.plot(x_RPV, y_RPV, '.', color = 'green')\n",
    "ax4.plot(x_TTbar, y_TTbar, '.', color = 'red')"
   ]
  },
  {
   "cell_type": "code",
   "execution_count": null,
   "metadata": {},
   "outputs": [],
   "source": []
  },
  {
   "cell_type": "code",
   "execution_count": null,
   "metadata": {},
   "outputs": [],
   "source": []
  },
  {
   "cell_type": "code",
   "execution_count": null,
   "metadata": {},
   "outputs": [],
   "source": []
  }
 ],
 "metadata": {
  "kernelspec": {
   "display_name": "Python 3",
   "language": "python",
   "name": "python3"
  },
  "language_info": {
   "codemirror_mode": {
    "name": "ipython",
    "version": 3
   },
   "file_extension": ".py",
   "mimetype": "text/x-python",
   "name": "python",
   "nbconvert_exporter": "python",
   "pygments_lexer": "ipython3",
   "version": "3.7.9"
  }
 },
 "nbformat": 4,
 "nbformat_minor": 4
}
