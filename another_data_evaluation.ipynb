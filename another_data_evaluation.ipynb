{
 "cells": [
  {
   "cell_type": "code",
   "execution_count": 1,
   "metadata": {},
   "outputs": [],
   "source": [
    "import numpy as np\n",
    "import torch\n",
    "import h5py\n",
    "import torch.nn as nn\n",
    "import torch_geometric\n",
    "import torch.nn.functional as F\n",
    "import torch_geometric.nn as PyG\n",
    "from torch_geometric.transforms import Distance\n",
    "from torch_geometric.data import DataLoader\n",
    "from torch_geometric.data import Data as PyGData\n",
    "from torch_geometric.data import Data\n",
    "import sys, os\n",
    "import subprocess\n",
    "import csv, yaml\n",
    "import math\n",
    "from tqdm import tqdm\n",
    "from sklearn.metrics import accuracy_score\n",
    "import torch.optim as optim\n",
    "import argparse\n",
    "import pandas as pd\n",
    "import matplotlib.pyplot as plt"
   ]
  },
  {
   "cell_type": "code",
   "execution_count": 2,
   "metadata": {},
   "outputs": [],
   "source": [
    "sys.path.append(\"./python\")\n",
    "from model.allModel import *"
   ]
  },
  {
   "cell_type": "code",
   "execution_count": 3,
   "metadata": {},
   "outputs": [],
   "source": [
    "# args = parser.parse_args() ## not jupyter\n",
    "import easydict\n",
    "args = easydict.EasyDict({\n",
    "    \"config\" : 'config_lhe_wbjet_test.yaml' ,\n",
    "    \"output\" : '2021222_test',\n",
    "    \"epoch\" : 10,\n",
    "    \"seed\" : 12345,\n",
    "    \"lr\" : 1e-4,\n",
    "    \"batch\" : 1000000,\n",
    "    \"model\" : 'GNN3layer',\n",
    "    \"fea\" : 4,\n",
    "    \"cla\" : 1,\n",
    "    \"device\" : 3\n",
    "\n",
    "   \n",
    "})"
   ]
  },
  {
   "cell_type": "code",
   "execution_count": 4,
   "metadata": {},
   "outputs": [],
   "source": [
    "config = yaml.load(open(args.config).read(), Loader=yaml.FullLoader)\n",
    "config['training']['learningRate'] = float(config['training']['learningRate'])\n",
    "if args.seed: config['training']['randomSeed1'] = args.seed\n",
    "if args.epoch: config['training']['epoch'] = args.epoch\n",
    "if args.lr: config['training']['learningRate'] = args.lr"
   ]
  },
  {
   "cell_type": "code",
   "execution_count": 5,
   "metadata": {},
   "outputs": [],
   "source": [
    "torch.set_num_threads(os.cpu_count())\n",
    "if torch.cuda.is_available() and args.device >= 0: torch.cuda.set_device(args.device)\n",
    "if not os.path.exists('result/' + args.output): os.makedirs('result/' + args.output)"
   ]
  },
  {
   "cell_type": "code",
   "execution_count": 6,
   "metadata": {},
   "outputs": [
    {
     "name": "stdout",
     "output_type": "stream",
     "text": [
      "4top /store/hep/users/jhgoh/nurion4hep/20211211_1/graph/8285877F-4B82-6B4B-BDD2-CDBABE12443D.h5\n",
      "  procName                                           fileName        weight  \\\n",
      "0     4top  /store/hep/users/jhgoh/nurion4hep/20211211_1/g...  1.004000e-09   \n",
      "\n",
      "  fileIdx  nEvent  label  \n",
      "0       0     0.0    1.0  \n",
      "\n",
      "--------------------------------------------------------------------------------\n"
     ]
    }
   ],
   "source": [
    "import time\n",
    "start = time.time()\n",
    "##### Define dataset instance #####\n",
    "from dataset.HEPGNNDataset_h5_LHE_re2 import *\n",
    "dset = HEPGNNDataset_h5_LHE_re2()\n",
    "for sampleInfo in config['samples']:\n",
    "    if 'ignore' in sampleInfo and sampleInfo['ignore']: continue\n",
    "    name = sampleInfo['name']\n",
    "    dset.addSample(name, sampleInfo['path'], weight=sampleInfo['xsec']/sampleInfo['ngen'])\n",
    "    dset.setProcessLabel(name, sampleInfo['label'])\n",
    "dset.initialize()"
   ]
  },
  {
   "cell_type": "code",
   "execution_count": 7,
   "metadata": {},
   "outputs": [],
   "source": [
    "lengths = [int(x*len(dset)) for x in config['training']['splitFractions']]\n",
    "lengths.append(len(dset)-sum(lengths))\n",
    "# torch.manual_seed(config['training']['randomSeed1'])\n",
    "kwargs = {'num_workers':min(config['training']['nDataLoaders'], os.cpu_count()),\n",
    "          'batch_size':args.batch, 'pin_memory':False}"
   ]
  },
  {
   "cell_type": "code",
   "execution_count": 8,
   "metadata": {},
   "outputs": [],
   "source": [
    "testLoader = DataLoader(dset, **kwargs)\n",
    "# torch.manual_seed(torch.initial_seed())"
   ]
  },
  {
   "cell_type": "code",
   "execution_count": 9,
   "metadata": {},
   "outputs": [],
   "source": [
    "from model.allModel import *\n",
    "\n",
    "model = torch.load('result/' + args.output+'/model.pth', map_location='cpu')\n",
    "model.load_state_dict(torch.load('result/' + args.output+'/weight.pth', map_location='cpu'))\n",
    "\n",
    "\n",
    "device = 'cpu'\n",
    "if args.device >= 0 and torch.cuda.is_available():\n",
    "    model = model.cuda()\n",
    "    device = 'cuda'"
   ]
  },
  {
   "cell_type": "code",
   "execution_count": 10,
   "metadata": {},
   "outputs": [
    {
     "data": {
      "text/plain": [
       "GCN3(\n",
       "  (conv1): GCNConv(4, 32)\n",
       "  (conv2): GCNConv(32, 64)\n",
       "  (conv3): GCNConv(64, 64)\n",
       "  (fc): Sequential(\n",
       "    (0): Linear(in_features=64, out_features=32, bias=True)\n",
       "    (1): ReLU()\n",
       "    (2): BatchNorm1d(32, eps=1e-05, momentum=0.1, affine=True, track_running_stats=True)\n",
       "    (3): Dropout(p=0.5, inplace=False)\n",
       "    (4): Linear(in_features=32, out_features=1, bias=True)\n",
       "    (5): Softplus(beta=1, threshold=20)\n",
       "  )\n",
       ")"
      ]
     },
     "execution_count": 10,
     "metadata": {},
     "output_type": "execute_result"
    }
   ],
   "source": [
    "model"
   ]
  },
  {
   "cell_type": "code",
   "execution_count": 11,
   "metadata": {},
   "outputs": [
    {
     "name": "stderr",
     "output_type": "stream",
     "text": [
      "100%|██████████| 1/1 [00:04<00:00,  4.46s/it]\n"
     ]
    }
   ],
   "source": [
    "device = 'cuda:3'\n",
    "\n",
    "#### Start evaluation #####\n",
    "from tqdm import tqdm\n",
    "\n",
    "datas = []\n",
    "preds= []\n",
    "batchs = []\n",
    "for i, data in enumerate(tqdm(testLoader)):\n",
    "    \n",
    "    data = data.to(device)\n",
    "\n",
    "    datas.append(data)\n",
    "    \n",
    "    pred = model(data)\n",
    "    preds.append(pred)"
   ]
  },
  {
   "cell_type": "code",
   "execution_count": 12,
   "metadata": {},
   "outputs": [],
   "source": [
    "f = h5py.File('/store/hep/users/jhgoh/nurion4hep/20211211_1/graph/8285877F-4B82-6B4B-BDD2-CDBABE12443D.h5','r')"
   ]
  },
  {
   "cell_type": "code",
   "execution_count": 13,
   "metadata": {
    "scrolled": true
   },
   "outputs": [],
   "source": [
    "final_state = []\n",
    "for i in range(len(f['events']['id'])):\n",
    "    final_state.append((f['events']['status'][i] == 1).sum())"
   ]
  },
  {
   "cell_type": "code",
   "execution_count": 62,
   "metadata": {},
   "outputs": [
    {
     "data": {
      "image/png": "[encoded data removed]",
      "text/plain": [
       "<Figure size 432x288 with 1 Axes>"
      ]
     },
     "metadata": {
      "needs_background": "light"
     },
     "output_type": "display_data"
    }
   ],
   "source": [
    "##### 전체 final state 갯수\n",
    "plt.hist(final_state,label='final state',bins=np.arange(2,6,0.5))\n",
    "plt.legend(loc='upper right',fontsize = 15)\n",
    "plt.show()"
   ]
  },
  {
   "cell_type": "code",
   "execution_count": 63,
   "metadata": {},
   "outputs": [
    {
     "data": {
      "image/png": "[encoded data removed]",
      "text/plain": [
       "<Figure size 432x288 with 1 Axes>"
      ]
     },
     "metadata": {
      "needs_background": "light"
     },
     "output_type": "display_data"
    }
   ],
   "source": [
    "##### weight 1에 대한 final state 분포\n",
    "plt.hist(np.array(final_state)[np.array(f['events']['weight']) == 1],label='final state, weight = 1',bins=np.arange(2,6,0.5))\n",
    "plt.legend(loc='upper right',fontsize = 15)\n",
    "plt.show()"
   ]
  },
  {
   "cell_type": "code",
   "execution_count": 64,
   "metadata": {
    "scrolled": true
   },
   "outputs": [
    {
     "data": {
      "image/png": "[encoded data removed]",
      "text/plain": [
       "<Figure size 432x288 with 1 Axes>"
      ]
     },
     "metadata": {
      "needs_background": "light"
     },
     "output_type": "display_data"
    }
   ],
   "source": [
    "##### weight -1에 대한 final state 분포\n",
    "plt.hist(np.array(final_state)[np.array(f['events']['weight']) == -1],label='final state, weight = -1',bins=np.arange(2,6,0.5))\n",
    "plt.legend(loc='upper right',fontsize = 15)\n",
    "plt.show()"
   ]
  },
  {
   "cell_type": "code",
   "execution_count": 17,
   "metadata": {},
   "outputs": [],
   "source": [
    "ne_2 = (np.array(final_state)[np.array(f['events']['weight']) == -1] == 2).sum()\n",
    "ne_3 = (np.array(final_state)[np.array(f['events']['weight']) == -1] == 3).sum()\n",
    "ne_4 = (np.array(final_state)[np.array(f['events']['weight']) == -1] == 4).sum()\n",
    "ne_5 = (np.array(final_state)[np.array(f['events']['weight']) == -1] == 5).sum()"
   ]
  },
  {
   "cell_type": "code",
   "execution_count": 18,
   "metadata": {},
   "outputs": [],
   "source": [
    "po_2 = (np.array(final_state)[np.array(f['events']['weight']) == 1] == 2).sum()\n",
    "po_3 = (np.array(final_state)[np.array(f['events']['weight']) == 1] == 3).sum()\n",
    "po_4 = (np.array(final_state)[np.array(f['events']['weight']) == 1] == 4).sum()\n",
    "po_5 = (np.array(final_state)[np.array(f['events']['weight']) == 1] == 5).sum()"
   ]
  },
  {
   "cell_type": "code",
   "execution_count": 19,
   "metadata": {},
   "outputs": [],
   "source": [
    "def weight_guess(a, b):\n",
    "    c = (a-b)/(a+b)\n",
    "    return c"
   ]
  },
  {
   "cell_type": "code",
   "execution_count": 20,
   "metadata": {},
   "outputs": [
    {
     "name": "stdout",
     "output_type": "stream",
     "text": [
      "0.8228226534296029\n",
      "0.6799296251184193\n",
      "0.3557987947361948\n",
      "-0.13599348534201955\n"
     ]
    }
   ],
   "source": [
    "print(weight_guess(po_2,ne_2))\n",
    "print(weight_guess(po_3,ne_3))\n",
    "print(weight_guess(po_4,ne_4))\n",
    "print(weight_guess(po_5,ne_5))"
   ]
  },
  {
   "cell_type": "code",
   "execution_count": 72,
   "metadata": {},
   "outputs": [
    {
     "name": "stdout",
     "output_type": "stream",
     "text": [
      "0.8144424\n",
      "0.6730444\n",
      "0.31553042\n",
      "0.19706398\n"
     ]
    }
   ],
   "source": [
    "print(np.mean(np.array(preds[0].to('cpu').detach().numpy())[np.array(final_state) == 2]))\n",
    "print(np.mean(np.array(preds[0].to('cpu').detach().numpy())[np.array(final_state) == 3]))\n",
    "print(np.mean(np.array(preds[0].to('cpu').detach().numpy())[np.array(final_state) == 4]))\n",
    "print(np.mean(np.array(preds[0].to('cpu').detach().numpy())[np.array(final_state) == 5]))"
   ]
  },
  {
   "cell_type": "code",
   "execution_count": 73,
   "metadata": {},
   "outputs": [
    {
     "name": "stdout",
     "output_type": "stream",
     "text": [
      "0.68845767\n"
     ]
    }
   ],
   "source": [
    "print(np.mean(np.array(preds[0].to('cpu').detach().numpy())))\n",
    "# print(np.mean(np.array(preds[0].to('cpu').detach().numpy())[np.array(final_state) == 3]))\n",
    "# print(np.mean(np.array(preds[0].to('cpu').detach().numpy())[np.array(final_state) == 4]))\n",
    "# print(np.mean(np.array(preds[0].to('cpu').detach().numpy())[np.array(final_state) == 5]))"
   ]
  },
  {
   "cell_type": "code",
   "execution_count": 37,
   "metadata": {},
   "outputs": [
    {
     "data": {
      "image/png": "[encoded data removed]",
      "text/plain": [
       "<Figure size 432x288 with 1 Axes>"
      ]
     },
     "metadata": {
      "needs_background": "light"
     },
     "output_type": "display_data"
    }
   ],
   "source": [
    "plt.hist(preds[0].to('cpu').detach().numpy(), histtype='step', linewidth=1,\n",
    "             density=False, bins=100, color='green',label='total',range=(0,1)) \n",
    "plt.hist(preds[0].to('cpu').detach().numpy()[np.array(final_state) == 2], histtype='step', linewidth=1,\n",
    "             density=False, bins=100, color=[1,0,1],label='final 2',range=(0,1)) \n",
    "plt.hist(preds[0].to('cpu').detach().numpy()[np.array(final_state) == 3], histtype='step', linewidth=1,\n",
    "             density=False, bins=100, color=[1,1,0],label='final 3',range=(0,1)) \n",
    "plt.hist(preds[0].to('cpu').detach().numpy()[np.array(final_state) == 4], histtype='step', linewidth=1,\n",
    "             density=False, bins=100, color=[0,1,1],label='final 4',range=(0,1)) \n",
    "plt.hist(preds[0].to('cpu').detach().numpy()[np.array(final_state) == 5], histtype='step', linewidth=1,\n",
    "             density=False, bins=100, color=[0,0,1],label='final 5',range=(0,1)) \n",
    "plt.yscale('log')\n",
    "plt.legend(loc='upper left',fontsize= 10)\n",
    "plt.title('reweight distribution')\n",
    "plt.show()"
   ]
  },
  {
   "cell_type": "code",
   "execution_count": 38,
   "metadata": {},
   "outputs": [
    {
     "data": {
      "image/png": "[encoded data removed]",
      "text/plain": [
       "<Figure size 432x288 with 1 Axes>"
      ]
     },
     "metadata": {
      "needs_background": "light"
     },
     "output_type": "display_data"
    }
   ],
   "source": [
    "plt.hist(preds[0].to('cpu').detach().numpy()[np.array(f['events']['weight']) == 1], histtype='step', linewidth=1,\n",
    "             density=False, bins=100, color='green',label='total',range=(0,1)) \n",
    "plt.hist(preds[0].to('cpu').detach().numpy()[np.array(f['events']['weight']) == 1][np.array(final_state)[np.array(f['events']['weight']) == 1] == 2], histtype='step', linewidth=1,\n",
    "             density=False, bins=100, color=[1,0,1],label='final 2',range=(0,1)) \n",
    "plt.hist(preds[0].to('cpu').detach().numpy()[np.array(f['events']['weight']) == 1][np.array(final_state)[np.array(f['events']['weight']) == 1] == 3], histtype='step', linewidth=1,\n",
    "             density=False, bins=100, color=[1,1,0],label='final 3',range=(0,1)) \n",
    "plt.hist(preds[0].to('cpu').detach().numpy()[np.array(f['events']['weight']) == 1][np.array(final_state)[np.array(f['events']['weight']) == 1] == 4], histtype='step', linewidth=1,\n",
    "             density=False, bins=100, color=[0,1,1],label='final 4',range=(0,1)) \n",
    "plt.hist(preds[0].to('cpu').detach().numpy()[np.array(f['events']['weight']) == 1][np.array(final_state)[np.array(f['events']['weight']) == 1] == 5], histtype='step', linewidth=1,\n",
    "             density=False, bins=100, color=[0,0,1],label='final 5',range=(0,1)) \n",
    "plt.title('reweight distribution, weight = 1')\n",
    "plt.yscale('log')\n",
    "# plt.legend(loc='upper left')\n",
    "plt.show()"
   ]
  },
  {
   "cell_type": "code",
   "execution_count": 39,
   "metadata": {},
   "outputs": [
    {
     "data": {
      "image/png": "[encoded data removed]",
      "text/plain": [
       "<Figure size 432x288 with 1 Axes>"
      ]
     },
     "metadata": {
      "needs_background": "light"
     },
     "output_type": "display_data"
    }
   ],
   "source": [
    "plt.hist(preds[0].to('cpu').detach().numpy()[np.array(f['events']['weight']) == -1], histtype='step', linewidth=1,\n",
    "             density=False, bins=100, color='green',label='total',range=(0,1)) \n",
    "plt.hist(preds[0].to('cpu').detach().numpy()[np.array(f['events']['weight']) == -1][np.array(final_state)[np.array(f['events']['weight']) == -1] == 2], histtype='step', linewidth=1,\n",
    "             density=False, bins=100, color=[1,0,1],label='final 2',range=(0,1)) \n",
    "plt.hist(preds[0].to('cpu').detach().numpy()[np.array(f['events']['weight']) == -1][np.array(final_state)[np.array(f['events']['weight']) == -1] == 3], histtype='step', linewidth=1,\n",
    "             density=False, bins=100, color=[1,1,0],label='final 3',range=(0,1)) \n",
    "plt.hist(preds[0].to('cpu').detach().numpy()[np.array(f['events']['weight']) == -1][np.array(final_state)[np.array(f['events']['weight']) == -1] == 4], histtype='step', linewidth=1,\n",
    "             density=False, bins=100, color=[0,1,1],label='final 4',range=(0,1)) \n",
    "plt.hist(preds[0].to('cpu').detach().numpy()[np.array(f['events']['weight']) == -1][np.array(final_state)[np.array(f['events']['weight']) == -1] == 5], histtype='step', linewidth=1,\n",
    "             density=False, bins=100, color=[0,0,1],label='final 5',range=(0,1)) \n",
    "plt.title('reweight distribution, weight = -1')\n",
    "# plt.legend(loc='upper left')\n",
    "plt.yscale('log')\n",
    "plt.show()"
   ]
  },
  {
   "cell_type": "code",
   "execution_count": 26,
   "metadata": {},
   "outputs": [
    {
     "data": {
      "image/png": "[encoded data removed]",
      "text/plain": [
       "<Figure size 432x288 with 1 Axes>"
      ]
     },
     "metadata": {
      "needs_background": "light"
     },
     "output_type": "display_data"
    }
   ],
   "source": [
    "plt.hist(preds[0].to('cpu').detach().numpy(), histtype='step', linewidth=1,\n",
    "             density=False, bins=100, color='green',label='total',range=(0,1)) \n",
    "plt.hist(preds[0].to('cpu').detach().numpy()[np.array(final_state) == 2], histtype='step', linewidth=1,\n",
    "             density=False, bins=100, color=[1,0,1],label='final 2',range=(0,1)) \n",
    "plt.hist(preds[0].to('cpu').detach().numpy()[np.array(final_state) == 3], histtype='step', linewidth=1,\n",
    "             density=False, bins=100, color=[1,1,0],label='final 3',range=(0,1)) \n",
    "plt.hist(preds[0].to('cpu').detach().numpy()[np.array(final_state) == 4], histtype='step', linewidth=1,\n",
    "             density=False, bins=100, color=[0,1,1],label='final 4',range=(0,1)) \n",
    "plt.hist(preds[0].to('cpu').detach().numpy()[np.array(final_state) == 5], histtype='step', linewidth=1,\n",
    "             density=False, bins=100, color=[0,0,1],label='final 5',range=(0,1)) \n",
    "plt.legend(loc='upper left')\n",
    "plt.show()"
   ]
  }
 ],
 "metadata": {
  "kernelspec": {
   "display_name": "Python 3",
   "language": "python",
   "name": "python3"
  },
  "language_info": {
   "codemirror_mode": {
    "name": "ipython",
    "version": 3
   },
   "file_extension": ".py",
   "mimetype": "text/x-python",
   "name": "python",
   "nbconvert_exporter": "python",
   "pygments_lexer": "ipython3",
   "version": "3.7.9"
  }
 },
 "nbformat": 4,
 "nbformat_minor": 4
}
