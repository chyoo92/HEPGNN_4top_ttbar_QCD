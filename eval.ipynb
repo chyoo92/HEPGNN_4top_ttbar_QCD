{
 "cells": [
  {
   "cell_type": "code",
   "execution_count": 1,
   "metadata": {},
   "outputs": [],
   "source": [
    "import pandas as pd\n",
    "import numpy as np\n",
    "import matplotlib.pyplot as plt"
   ]
  },
  {
   "cell_type": "code",
   "execution_count": 2,
   "metadata": {},
   "outputs": [],
   "source": [
    "output = '210803_ttbar_4top_2layer'\n",
    "# output = 'QCD_4top_imsi'\n",
    "# lab = 'QCD_4top'\n",
    "# output = '210813_QCD_4top_4fea'"
   ]
  },
  {
   "cell_type": "code",
   "execution_count": null,
   "metadata": {},
   "outputs": [],
   "source": []
  },
  {
   "cell_type": "code",
   "execution_count": 3,
   "metadata": {},
   "outputs": [],
   "source": [
    "fPred = 'result/'+output+'/'+output+'.csv'\n",
    "# prediction = 'result/'+output+'/'+output+'_pred.csv'\n",
    "df = pd.read_csv(fPred)\n",
    "# df2 = pd.read_csv(prediction)\n",
    "# df = pd.concat([df, df2], axis = 1)"
   ]
  },
  {
   "cell_type": "code",
   "execution_count": null,
   "metadata": {},
   "outputs": [],
   "source": []
  },
  {
   "cell_type": "code",
   "execution_count": 4,
   "metadata": {
    "scrolled": false
   },
   "outputs": [
    {
     "data": {
      "image/png": "[encoded data removed]",
      "text/plain": [
       "<Figure size 432x288 with 1 Axes>"
      ]
     },
     "metadata": {
      "needs_background": "light"
     },
     "output_type": "display_data"
    },
    {
     "data": {
      "image/png": "[encoded data removed]",
      "text/plain": [
       "<Figure size 432x288 with 1 Axes>"
      ]
     },
     "metadata": {
      "needs_background": "light"
     },
     "output_type": "display_data"
    },
    {
     "ename": "NameError",
     "evalue": "name 'lab' is not defined",
     "output_type": "error",
     "traceback": [
      "\u001b[0;31m---------------------------------------------------------------------------\u001b[0m",
      "\u001b[0;31mNameError\u001b[0m                                 Traceback (most recent call last)",
      "\u001b[0;32m<ipython-input-4-310d6a7a976c>\u001b[0m in \u001b[0;36m<module>\u001b[0;34m\u001b[0m\n\u001b[1;32m     49\u001b[0m \u001b[0;34m\u001b[0m\u001b[0m\n\u001b[1;32m     50\u001b[0m \u001b[0;31m# plt.plot(fpr, tpr, '.-', label='AUC = ' + '%s %f' % (auc, lab))\u001b[0m\u001b[0;34m\u001b[0m\u001b[0;34m\u001b[0m\u001b[0;34m\u001b[0m\u001b[0m\n\u001b[0;32m---> 51\u001b[0;31m \u001b[0mplt\u001b[0m\u001b[0;34m.\u001b[0m\u001b[0mplot\u001b[0m\u001b[0;34m(\u001b[0m\u001b[0mfpr\u001b[0m\u001b[0;34m,\u001b[0m \u001b[0mtpr\u001b[0m\u001b[0;34m,\u001b[0m \u001b[0mlabel\u001b[0m\u001b[0;34m=\u001b[0m\u001b[0;34m'AUC = %.3f'\u001b[0m \u001b[0;34m%\u001b[0m \u001b[0;34m(\u001b[0m\u001b[0mauc\u001b[0m\u001b[0;34m)\u001b[0m \u001b[0;34m+\u001b[0m \u001b[0;34m'   '\u001b[0m \u001b[0;34m+\u001b[0m\u001b[0mlab\u001b[0m\u001b[0;34m,\u001b[0m \u001b[0mlinewidth\u001b[0m\u001b[0;34m=\u001b[0m\u001b[0;34m'2'\u001b[0m\u001b[0;34m)\u001b[0m\u001b[0;34m\u001b[0m\u001b[0;34m\u001b[0m\u001b[0m\n\u001b[0m\u001b[1;32m     52\u001b[0m \u001b[0;34m\u001b[0m\u001b[0m\n\u001b[1;32m     53\u001b[0m \u001b[0mplt\u001b[0m\u001b[0;34m.\u001b[0m\u001b[0mxlabel\u001b[0m\u001b[0;34m(\u001b[0m\u001b[0;34m'Bkg'\u001b[0m\u001b[0;34m)\u001b[0m\u001b[0;34m\u001b[0m\u001b[0;34m\u001b[0m\u001b[0m\n",
      "\u001b[0;31mNameError\u001b[0m: name 'lab' is not defined"
     ]
    },
    {
     "data": {
      "text/plain": [
       "<Figure size 432x288 with 0 Axes>"
      ]
     },
     "metadata": {},
     "output_type": "display_data"
    }
   ],
   "source": [
    "\n",
    "##### Draw ROC curve #####\n",
    "from sklearn.metrics import roc_curve, roc_auc_score\n",
    "\n",
    "tpr, fpr, thr = roc_curve(df['label'], df['prediction'], sample_weight=df['scaledWeight'], pos_label=0)\n",
    "try:\n",
    "    auc = roc_auc_score(df['label'], df['prediction'], sample_weight=df['scaledWeight'])\n",
    "except:\n",
    "    auc = 1\n",
    "\n",
    "df_bkg = df[df.label==0]\n",
    "df_sig = df[df.label==1]\n",
    "\n",
    "plt.hist(df_bkg['prediction']*100, histtype='step', \n",
    "         weights=df_bkg['scaledWeight'], density = 'True', \n",
    "         bins=50, alpha=0.7, color='red', \n",
    "         label='ttbar', linewidth=3)\n",
    "plt.hist(df_sig['prediction']*100, histtype='step', \n",
    "         weights=df_sig['scaledWeight'], density = 'True', \n",
    "         bins=50, alpha=0.7, color='blue', \n",
    "         label='4top', linewidth=3)\n",
    "\n",
    "plt.xticks(np.arange(0, 101, step=20),[\"{}\".format(x*0.01) for x in np.arange(0, 101,step=20)],fontsize = 20)\n",
    "plt.yticks(fontsize = 20)\n",
    "plt.xlim(0, 100)\n",
    "\n",
    "#plt.yscale('log')\n",
    "plt.ylabel('Events')\n",
    "plt.legend(loc = 'upper center')\n",
    "# plt.savefig('result/' + output + '/' + output + '_Events.png', dpi=300)\n",
    "plt.show()\n",
    "plt.clf()\n",
    "################################################################\n",
    "plt.hist(df_bkg['prediction']*100, histtype='step', weights=df_bkg['scaledWeight'], bins=50, alpha=0.7, color='red', label='Bkg', linewidth=3)\n",
    "plt.hist(df_sig['prediction']*100, histtype='step', weights=df_sig['scaledWeight'], bins=50, alpha=0.7, color='blue', label='Sig', linewidth=3)\n",
    "\n",
    "plt.xticks(np.arange(0, 101, step=20),[\"{}\".format(x*0.01) for x in np.arange(0, 101,step=20)],fontsize = 20)\n",
    "plt.yticks(fontsize = 20)\n",
    "plt.xlim(0, 100)\n",
    "\n",
    "\n",
    "#plt.yscale('log')\n",
    "plt.ylabel('Events')\n",
    "plt.legend(loc = 'upper center')\n",
    "# plt.savefig('result/' + output + '/' + output + '_Events.png', dpi=300)\n",
    "plt.show()\n",
    "plt.clf()\n",
    "\n",
    "################################################################################\n",
    "\n",
    "# plt.plot(fpr, tpr, '.-', label='AUC = ' + '%s %f' % (auc, lab))\n",
    "plt.plot(fpr, tpr, label='AUC = %.3f' % (auc) + '   ' +lab, linewidth='2')\n",
    " \n",
    "plt.xlabel('Bkg')\n",
    "plt.ylabel('Sig')\n",
    "#plt.xlim(0, 0.001)\n",
    "plt.xlim(0, 1.000)\n",
    "plt.ylim(0, 1.000)\n",
    "plt.legend(loc = 'lower center')\n",
    "# plt.savefig('result/' +output + '/' + output + '_efficiency.png', dpi=300)\n",
    "plt.grid()\n",
    "plt.show()\n",
    "plt.clf()\n",
    "\n"
   ]
  }
 ],
 "metadata": {
  "kernelspec": {
   "display_name": "Python 3",
   "language": "python",
   "name": "python3"
  },
  "language_info": {
   "codemirror_mode": {
    "name": "ipython",
    "version": 3
   },
   "file_extension": ".py",
   "mimetype": "text/x-python",
   "name": "python",
   "nbconvert_exporter": "python",
   "pygments_lexer": "ipython3",
   "version": "3.7.9"
  }
 },
 "nbformat": 4,
 "nbformat_minor": 4
}
