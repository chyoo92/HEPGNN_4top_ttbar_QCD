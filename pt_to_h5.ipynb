{
 "cells": [
  {
   "cell_type": "code",
   "execution_count": 1,
   "metadata": {},
   "outputs": [],
   "source": [
    "import torch\n",
    "import os\n",
    "import numpy as np\n",
    "import glob\n",
    "import h5py\n",
    "# from torch_geometric.nn import radius_graph\n",
    "path1 = '/store/hep/users/yewzzang/4top_QCD_ttbar/data_graph/pt/*_weight_*/*/*'\n",
    "list_name1 = glob.glob(path1)\n",
    "\n",
    "path2 = '/store/hep/users/yewzzang/4top_QCD_ttbar/data_graph/pt/*_weight_*/*'\n",
    "list_name2 = glob.glob(path2)\n",
    "\n",
    "list_name = list_name1 + list_name2\n",
    "\n",
    "file_list_pt = [file for file in list_name if file.endswith(\".pt\")]\n"
   ]
  },
  {
   "cell_type": "code",
   "execution_count": 2,
   "metadata": {},
   "outputs": [
    {
     "name": "stdout",
     "output_type": "stream",
     "text": [
      "/store/hep/users/yewzzang/4top_QCD_ttbar/data_graph/pt/4top_weight_210709/ex1_v2_210520/output_ex1_v2-powheg-79.pt\n"
     ]
    },
    {
     "ename": "NameError",
     "evalue": "name 'stop' is not defined",
     "output_type": "error",
     "traceback": [
      "\u001b[0;31m---------------------------------------------------------------------------\u001b[0m",
      "\u001b[0;31mNameError\u001b[0m                                 Traceback (most recent call last)",
      "\u001b[0;32m<ipython-input-2-e6fa748eeebc>\u001b[0m in \u001b[0;36m<module>\u001b[0;34m\u001b[0m\n\u001b[1;32m     70\u001b[0m \u001b[0;34m\u001b[0m\u001b[0m\n\u001b[1;32m     71\u001b[0m     \u001b[0mf\u001b[0m\u001b[0;34m.\u001b[0m\u001b[0mclose\u001b[0m\u001b[0;34m(\u001b[0m\u001b[0;34m)\u001b[0m\u001b[0;34m\u001b[0m\u001b[0;34m\u001b[0m\u001b[0m\n\u001b[0;32m---> 72\u001b[0;31m     \u001b[0mstop\u001b[0m\u001b[0;34m\u001b[0m\u001b[0;34m\u001b[0m\u001b[0m\n\u001b[0m",
      "\u001b[0;31mNameError\u001b[0m: name 'stop' is not defined"
     ]
    }
   ],
   "source": [
    "for i in range(len(file_list_pt)):\n",
    "    file_name = file_list_pt[i]\n",
    "    print(file_name)\n",
    "    \n",
    "    edge_index_p = []\n",
    "    pos_p = []\n",
    "    x_p = []\n",
    "    y_p = []\n",
    "    file_name = '/store/hep/users/yewzzang/4top_QCD_ttbar/data_graph/pt/QCD_weight_210709/HT700_3/QCD_HT700_3-2018-160.pt'\n",
    "    file = torch.load(file_name)\n",
    "    for j in range(len(file)):\n",
    "        \n",
    "        \n",
    "        edge_index_p.append(file[j].edge_index)\n",
    "        pos_p.append(file[j].pos)\n",
    "        x_p.append(file[j].x)\n",
    "        y_p.append(file[j].y)\n",
    "\n",
    "    edge_flat = [[] for _ in range(len(y_p))]\n",
    "    pos_flat = [[] for _ in range(len(y_p))]\n",
    "    x_flat = [[] for _ in range(len(y_p))]\n",
    "#     y_flat = [[] for _ in range(len(y_p))]\n",
    "    y_flat = y_p\n",
    "    for k in range(len(y_p)):\n",
    "        \n",
    "        edge_f = [y for x in edge_index_p[k] for y in x]\n",
    "       \n",
    "        pos_f = [y for x in pos_p[k] for y in x]\n",
    "        x_f = [y for x in x_p[k] for y in x]\n",
    "\n",
    "        \n",
    "        edge_flat[k] = np.asarray(edge_f)\n",
    "\n",
    "        pos_flat[k] = np.asarray(pos_f)\n",
    "        x_flat[k] = np.asarray(x_f)\n",
    "\n",
    "    test = file_name.split('/')[8:9][0].split('_')[0]\n",
    "    test1 = file_name.split('/')[9:10][0]\n",
    "    test2 = file_name.split('/')[-1:][0].split('.')[0]\n",
    "\n",
    "    if test == 'ttbar':\n",
    "    \n",
    "        save_path = '/store/hep/users/yewzzang/4top_QCD_ttbar/data_graph/pt/'+ str(test) +'_h5/'\n",
    "        save_file = save_path + str(test2)\n",
    "    else:\n",
    "        save_path = '/store/hep/users/yewzzang/4top_QCD_ttbar/data_graph/pt/'+ str(test) +'_h5/' + str(test1) +'/'\n",
    "        save_file = save_path + str(test2)\n",
    "\n",
    "    if not os.path.exists(save_path): os.makedirs(save_path)\n",
    "\n",
    "    \n",
    "    f = h5py.File(save_file +'.h5', mode='w')\n",
    "\n",
    "    dt = h5py.special_dtype(vlen=np.dtype('float32'))\n",
    "    g = f.create_group(\"group\")\n",
    "    \n",
    "    pos = g.create_group(\"pos\")\n",
    "    x_fea = g.create_group(\"fea\")\n",
    "    edge_index = g.create_group(\"edge\")\n",
    "    label = g.create_group(\"label\")\n",
    "    \n",
    "    pos.create_dataset('pos', (len(pos_flat),), dtype=dt)\n",
    "    pos['pos'][...] = pos_flat\n",
    "    x_fea.create_dataset('fea', (len(pos_flat),), dtype=dt)\n",
    "    x_fea['fea'][...] = x_flat\n",
    "    edge_index.create_dataset('edge', (len(pos_flat),), dtype=dt)\n",
    "    edge_index['edge'][...] = edge_flat\n",
    "    label.create_dataset('label', (len(pos_flat),), dtype=dt)\n",
    "    label['label'][...] = y_flat\n",
    " \n",
    "    f.close()\n",
    "    stop"
   ]
  },
  {
   "cell_type": "code",
   "execution_count": null,
   "metadata": {},
   "outputs": [],
   "source": []
  },
  {
   "cell_type": "code",
   "execution_count": null,
   "metadata": {},
   "outputs": [],
   "source": []
  },
  {
   "cell_type": "code",
   "execution_count": null,
   "metadata": {},
   "outputs": [],
   "source": []
  },
  {
   "cell_type": "code",
   "execution_count": null,
   "metadata": {},
   "outputs": [],
   "source": []
  },
  {
   "cell_type": "code",
   "execution_count": null,
   "metadata": {},
   "outputs": [],
   "source": []
  },
  {
   "cell_type": "code",
   "execution_count": null,
   "metadata": {},
   "outputs": [],
   "source": []
  },
  {
   "cell_type": "code",
   "execution_count": null,
   "metadata": {},
   "outputs": [],
   "source": []
  }
 ],
 "metadata": {
  "kernelspec": {
   "display_name": "Python 3",
   "language": "python",
   "name": "python3"
  },
  "language_info": {
   "codemirror_mode": {
    "name": "ipython",
    "version": 3
   },
   "file_extension": ".py",
   "mimetype": "text/x-python",
   "name": "python",
   "nbconvert_exporter": "python",
   "pygments_lexer": "ipython3",
   "version": "3.7.9"
  }
 },
 "nbformat": 4,
 "nbformat_minor": 4
}
