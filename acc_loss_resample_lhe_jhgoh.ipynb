{
 "cells": [
  {
   "cell_type": "code",
   "execution_count": 1,
   "metadata": {},
   "outputs": [],
   "source": [
    "import matplotlib.pyplot as plt\n",
    "import pandas as pd\n",
    "import os\n",
    "import numpy as np"
   ]
  },
  {
   "cell_type": "code",
   "execution_count": 2,
   "metadata": {},
   "outputs": [],
   "source": [
    "import glob\n",
    "uni = \"21118_lhe_jhgoh\"\n",
    "\n",
    "path = \"/users/yewzzang/work/HEPGNN_4top/result/*\" + uni +\"*/train.csv\"\n",
    "train_path = glob.glob(path)\n",
    "train_list = [file for file in train_path if file.endswith(\".csv\")]\n",
    "\n",
    "\n",
    "\n",
    "\n",
    "path = \"/users/yewzzang/work/HEPGNN_4top/result/*\"+uni +\"*/*\"+uni +\".csv\"\n",
    "pred_path = glob.glob(path)\n",
    "pred_list = [file for file in pred_path if file.endswith(\".csv\")]\n",
    "\n",
    "path = \"/users/yewzzang/work/HEPGNN_4top/result/*\"+uni +\"*/*\"+uni +\"_feature.csv\"\n",
    "feature_path = glob.glob(path)\n",
    "feature_list = [file for file in feature_path if file.endswith(\".csv\")]\n",
    "\n",
    "path = \"/users/yewzzang/work/HEPGNN_4top/result/*\"+uni +\"*/*\"+uni +\"_batch.csv\"\n",
    "batch_path = glob.glob(path)\n",
    "batch_list = [file for file in batch_path if file.endswith(\".csv\")]\n",
    "\n",
    "\n",
    "\n",
    "\n",
    "\n",
    "d = train_list\n",
    "dd = pred_list\n",
    "ddd = feature_list\n",
    "\n",
    "ddddd = batch_list\n"
   ]
  },
  {
   "cell_type": "code",
   "execution_count": 3,
   "metadata": {},
   "outputs": [],
   "source": [
    "plt.rcParams['lines.linewidth'] = 1\n",
    "plt.rcParams['lines.markersize'] = 5\n",
    "plt.rcParams[\"legend.loc\"] = 'upper right'\n",
    "plt.rcParams[\"legend.frameon\"] = False\n",
    "plt.rcParams[\"legend.loc\"] = 'upper left'"
   ]
  },
  {
   "cell_type": "code",
   "execution_count": 4,
   "metadata": {},
   "outputs": [
    {
     "data": {
      "text/plain": [
       "[]"
      ]
     },
     "execution_count": 4,
     "metadata": {},
     "output_type": "execute_result"
    }
   ],
   "source": [
    "dd"
   ]
  },
  {
   "cell_type": "code",
   "execution_count": 5,
   "metadata": {
    "scrolled": false
   },
   "outputs": [
    {
     "name": "stderr",
     "output_type": "stream",
     "text": [
      "/users/yewzzang/.local/lib/python3.7/site-packages/ipykernel_launcher.py:29: UserWarning: tight_layout not applied: number of rows in subplot specifications must be multiples of one another.\n"
     ]
    },
    {
     "data": {
      "image/png": "[encoded data removed]",
      "text/plain": [
       "<Figure size 720x720 with 3 Axes>"
      ]
     },
     "metadata": {
      "needs_background": "light"
     },
     "output_type": "display_data"
    }
   ],
   "source": [
    "plt.rcParams['figure.figsize'] = (10, 10)\n",
    "# plt.rcParams['figure.figsize'] = (10, 10)\n",
    "ax1 = plt.subplot(2, 2, 1, yscale='log', ylabel='Loss(trn)', xlabel='epoch')\n",
    "ax2 = plt.subplot(2, 2, 2, yscale='log', ylabel='Loss(val)', xlabel='epoch')\n",
    "for ax in (ax1, ax2):\n",
    "    ax.grid(which='major', axis='both', linestyle='-.')\n",
    "    ax.grid(which='minor', linestyle=':')\n",
    "    ax.set_xlim([0,4000])\n",
    "lines, labels = [], []\n",
    "\n",
    "for i in range(len(d)):\n",
    "    df = pd.read_csv(d[i])\n",
    "    \n",
    "    label = d[i].split('/')[-2].replace('__', ' ')\n",
    "    if label.split('_')[0] == '210817':\n",
    "        l =  ax1.plot(df['trn_loss'], linewidth=2)\n",
    "        ax2.plot(df['val_loss'], linewidth=2)\n",
    "    else:\n",
    "        l =  ax1.plot(df['trn_loss'])\n",
    "        ax2.plot(df['val_loss'])\n",
    "    \n",
    "#     label = ddd[i]\n",
    "    \n",
    "    lines.append(l[0])\n",
    "    labels.append(label)\n",
    "ax3 = plt.subplot(3,1,3)\n",
    "ax3.legend(lines, labels)\n",
    "ax3.axis('off')\n",
    "plt.tight_layout()\n",
    "plt.show()\n",
    "plt.close()"
   ]
  },
  {
   "cell_type": "code",
   "execution_count": 6,
   "metadata": {},
   "outputs": [
    {
     "ename": "IndexError",
     "evalue": "list index out of range",
     "output_type": "error",
     "traceback": [
      "\u001b[0;31m---------------------------------------------------------------------------\u001b[0m",
      "\u001b[0;31mIndexError\u001b[0m                                Traceback (most recent call last)",
      "\u001b[0;32m<ipython-input-6-3e6bf467a22b>\u001b[0m in \u001b[0;36m<module>\u001b[0;34m\u001b[0m\n\u001b[1;32m      4\u001b[0m \u001b[0;31m#plt.yscale('log')\u001b[0m\u001b[0;34m\u001b[0m\u001b[0;34m\u001b[0m\u001b[0;34m\u001b[0m\u001b[0m\n\u001b[1;32m      5\u001b[0m \u001b[0mplt\u001b[0m\u001b[0;34m.\u001b[0m\u001b[0mfigure\u001b[0m\u001b[0;34m(\u001b[0m\u001b[0mfigsize\u001b[0m\u001b[0;34m=\u001b[0m\u001b[0;34m(\u001b[0m\u001b[0;36m10\u001b[0m\u001b[0;34m,\u001b[0m\u001b[0;36m10\u001b[0m\u001b[0;34m)\u001b[0m\u001b[0;34m)\u001b[0m\u001b[0;34m\u001b[0m\u001b[0;34m\u001b[0m\u001b[0m\n\u001b[0;32m----> 6\u001b[0;31m \u001b[0mdf\u001b[0m \u001b[0;34m=\u001b[0m \u001b[0mpd\u001b[0m\u001b[0;34m.\u001b[0m\u001b[0mread_csv\u001b[0m\u001b[0;34m(\u001b[0m\u001b[0mdd\u001b[0m\u001b[0;34m[\u001b[0m\u001b[0;36m0\u001b[0m\u001b[0;34m]\u001b[0m\u001b[0;34m)\u001b[0m\u001b[0;34m\u001b[0m\u001b[0;34m\u001b[0m\u001b[0m\n\u001b[0m\u001b[1;32m      7\u001b[0m plt.hist(df['prediction'], histtype='step', \n\u001b[1;32m      8\u001b[0m              density=True, bins=50, color='blue',label='pred')        \n",
      "\u001b[0;31mIndexError\u001b[0m: list index out of range"
     ]
    },
    {
     "data": {
      "text/plain": [
       "<Figure size 720x720 with 0 Axes>"
      ]
     },
     "metadata": {},
     "output_type": "display_data"
    }
   ],
   "source": [
    "# from sklearn.metrics import roc_curve, roc_auc_score\n",
    "\n",
    "\n",
    "#plt.yscale('log')\n",
    "plt.figure(figsize=(10,10))\n",
    "df = pd.read_csv(dd[0])\n",
    "plt.hist(df['prediction'], histtype='step', \n",
    "             density=True, bins=50, color='blue',label='pred')        \n",
    "plt.hist(df['weight'], histtype='step', \n",
    "             density=True, bins=50, color='red',label='real') \n",
    "plt.legend()\n",
    "\n",
    "plt.show()"
   ]
  },
  {
   "cell_type": "code",
   "execution_count": null,
   "metadata": {},
   "outputs": [],
   "source": [
    "df['prediction'].max()"
   ]
  },
  {
   "cell_type": "code",
   "execution_count": null,
   "metadata": {},
   "outputs": [],
   "source": [
    "# from sklearn.metrics import roc_curve, roc_auc_score\n",
    "\n",
    "\n",
    "#plt.yscale('log')\n",
    "plt.figure(figsize=(10,10))\n",
    "df = pd.read_csv(dd[0])\n",
    "plt.hist(df['prediction'], histtype='step', \n",
    "             density=True, bins=50, color='blue',label='pred')        \n",
    "# plt.hist(df['weight'], histtype='step', \n",
    "#              density=True, bins=50, color='red',label='real') \n",
    "plt.legend()\n",
    "\n",
    "plt.show()"
   ]
  },
  {
   "cell_type": "code",
   "execution_count": null,
   "metadata": {},
   "outputs": [],
   "source": [
    "print(df['prediction'].max(),'max')\n",
    "print(df['prediction'].min(),'min')\n",
    "print(np.average(df['prediction']),'pred average')\n",
    "print(np.average(df['weight']),'real average')"
   ]
  },
  {
   "cell_type": "code",
   "execution_count": null,
   "metadata": {
    "scrolled": false
   },
   "outputs": [],
   "source": [
    "###### max mass\n",
    "df3 = pd.read_csv(ddd[0])     ### feature\n",
    "df4 = pd.read_csv(ddddd[0])   ### batch\n",
    "df4 = np.array(df4)\n",
    "df3 = np.array(df3).reshape(-1,4)  ## mass /px/py/pz\n",
    "#### 각 batch 안에서 최대 max pt의 feature들 뽑기\n",
    "a = 0\n",
    "max_mass_features = []\n",
    "for i in range(len(df4)):\n",
    "    mass = df3[a:a+df4[i][0]][:,0]\n",
    "\n",
    "    aaaa = np.where(mass == mass.max())\n",
    "\n",
    "    \n",
    "    max_mass_particle = df3[a+aaaa[0]]\n",
    " \n",
    "    max_mass_features.append(max_mass_particle)\n",
    "    a += df4[i][0]\n"
   ]
  },
  {
   "cell_type": "code",
   "execution_count": null,
   "metadata": {
    "scrolled": false
   },
   "outputs": [],
   "source": [
    "plt.figure(figsize=(10,10))\n",
    "df = pd.read_csv(dd[0])\n",
    "ax1 = plt.subplot(3, 2, 1, title = 'Jet mass')\n",
    "ax2 = plt.subplot(3, 2, 2, title = \"resampled/origin\")\n",
    "ax3 = plt.subplot(3, 2, 3, title = \"resampled/no weight\")\n",
    "ax4 = plt.subplot(3, 2, 4, title = \"origin/no weight\")\n",
    "ns0, bins0, patches1 = ax1.hist(np.array(max_mass_features)[:,:,0], \n",
    "             density=False, bins=np.arange(0,200,step=1), log=True,\n",
    "             color='orange',label='no weight') \n",
    "ns1, bins1, patches1 = ax1.hist(np.array(max_mass_features)[:,:,0], histtype='step', \n",
    "             density=False, bins=np.arange(0,200,step=1), log=True,\n",
    "             color='blue',label='resampled weight',\n",
    "             weights = np.array(df['prediction']).reshape(-1,1))\n",
    "ns2, bins2, patches2 = ax1.hist(np.array(max_mass_features)[:,:,0], histtype='step', \n",
    "             density=False, bins=np.arange(0,200,step=1), log=True,\n",
    "             color='red',label='origin weight',\n",
    "             weights = np.array(df['weight']).reshape(-1,1)) \n",
    "\n",
    "ax2.bar(bins0[1:], ns1/ns2,width=2)\n",
    "ax3.bar(bins0[1:], ns1/ns0,width=2)\n",
    "ax4.bar(bins0[1:], ns2/ns0,width=2)\n",
    "ax1.set_xlim([160,200])\n",
    "ax2.set_xlim([160,200])\n",
    "ax3.set_xlim([160,200])\n",
    "ax4.set_xlim([160,200])\n",
    "\n",
    "\n",
    "ax1.legend(loc='best')\n",
    "\n",
    "plt.show()\n"
   ]
  },
  {
   "cell_type": "code",
   "execution_count": null,
   "metadata": {},
   "outputs": [],
   "source": [
    "#     max_eta_feature = \n",
    "plt.figure(figsize=(10,10))\n",
    "df = pd.read_csv(dd[0])\n",
    "ax1 = plt.subplot(3, 2, 1, title = 'px')\n",
    "ax2 = plt.subplot(3, 2, 2, title = \"resampled/origin\")\n",
    "ax3 = plt.subplot(3, 2, 3, title = \"resampled/no weight\")\n",
    "ax4 = plt.subplot(3, 2, 4, title = \"origin/no weight\")\n",
    "ns0, bins0, patches1 = ax1.hist(np.array(max_mass_features)[:,:,1], \n",
    "             density=False, bins=np.arange(-6,6,step=0.2), log=True,\n",
    "             color='orange',label='no weight') \n",
    "ns1, bins1, patches1 = ax1.hist(np.array(max_mass_features)[:,:,1], histtype='step', \n",
    "             density=False, bins=np.arange(-6,6,step=0.2), log=True,\n",
    "             color='blue',label='resampled weight',\n",
    "             weights = np.array(df['prediction']).reshape(-1,1))\n",
    "ns2, bins2, patches2 = ax1.hist(np.array(max_mass_features)[:,:,1], histtype='step', \n",
    "             density=False, bins=np.arange(-6,6,step=0.2), log=True,\n",
    "             color='red',label='origin weight',\n",
    "             weights = np.array(df['weight']).reshape(-1,1)) \n",
    "\n",
    "ax2.bar(bins0[1:], (ns1/ns2),width=0.2)\n",
    "ax3.bar(bins0[1:], (ns1/ns0),width=0.2)\n",
    "ax4.bar(bins0[1:], (ns2/ns0),width=0.2)\n",
    "ax1.set_xlim([-7,7])\n",
    "ax2.set_xlim([-7,7])\n",
    "ax3.set_xlim([-7,7])\n",
    "ax4.set_xlim([-7,7])\n",
    "\n",
    "\n",
    "\n",
    "ax1.legend(loc='best')\n",
    "\n",
    "plt.show()"
   ]
  },
  {
   "cell_type": "code",
   "execution_count": null,
   "metadata": {},
   "outputs": [],
   "source": [
    "#     max_eta_feature = \n",
    "plt.figure(figsize=(10,10))\n",
    "df = pd.read_csv(dd[0])\n",
    "ax1 = plt.subplot(3, 2, 1, title = 'py')\n",
    "ax2 = plt.subplot(3, 2, 2, title = \"resampled/origin\")\n",
    "ax3 = plt.subplot(3, 2, 3, title = \"resampled/no weight\")\n",
    "ax4 = plt.subplot(3, 2, 4, title = \"origin/no weight\")\n",
    "ns0, bins0, patches1 = ax1.hist(np.array(max_mass_features)[:,:,2], \n",
    "             density=False, bins=np.arange(-5,5,step=0.2), log=True,\n",
    "             color='orange',label='no weight') \n",
    "ns1, bins1, patches1 = ax1.hist(np.array(max_mass_features)[:,:,2], histtype='step', \n",
    "             density=False, bins=np.arange(-5,5,step=0.2), log=True,\n",
    "             color='blue',label='resampled weight',\n",
    "             weights = np.array(df['prediction']).reshape(-1,1))\n",
    "ns2, bins2, patches2 = ax1.hist(np.array(max_mass_features)[:,:,2], histtype='step', \n",
    "             density=False, bins=np.arange(-5,5,step=0.2), log=True,\n",
    "             color='red',label='origin weight',\n",
    "             weights = np.array(df['weight']).reshape(-1,1)) \n",
    "\n",
    "ax2.bar(bins0[1:], (ns1/ns2),width=0.2)\n",
    "ax3.bar(bins0[1:], (ns1/ns0),width=0.2)\n",
    "ax4.bar(bins0[1:], (ns2/ns0),width=0.2)\n",
    "ax1.set_xlim([-6,6])\n",
    "ax2.set_xlim([-6,6])\n",
    "ax3.set_xlim([-6,6])\n",
    "ax4.set_xlim([-6,6])\n",
    "\n",
    "\n",
    "\n",
    "ax1.legend(loc='best')\n",
    "\n",
    "plt.show()"
   ]
  },
  {
   "cell_type": "code",
   "execution_count": null,
   "metadata": {},
   "outputs": [],
   "source": [
    "#     max_eta_feature = \n",
    "plt.figure(figsize=(10,10))\n",
    "df = pd.read_csv(dd[0])\n",
    "ax1 = plt.subplot(3, 2, 1, title = 'pz')\n",
    "ax2 = plt.subplot(3, 2, 2, title = \"resampled/origin\")\n",
    "ax3 = plt.subplot(3, 2, 3, title = \"resampled/no weight\")\n",
    "ax4 = plt.subplot(3, 2, 4, title = \"origin/no weight\")\n",
    "ns0, bins0, patches1 = ax1.hist(np.array(max_mass_features)[:,:,3], \n",
    "             density=False, bins=np.arange(0,500,step=5), log=True,\n",
    "             color='orange',label='no weight') \n",
    "ns1, bins1, patches1 = ax1.hist(np.array(max_mass_features)[:,:,3], histtype='step', \n",
    "             density=False, bins=np.arange(0,500,step=5), log=True,\n",
    "             color='blue',label='resampled weight',\n",
    "             weights = np.array(df['prediction']).reshape(-1,1))\n",
    "ns2, bins2, patches2 = ax1.hist(np.array(max_mass_features)[:,:,3], histtype='step', \n",
    "             density=False, bins=np.arange(0,500,step=5), log=True,\n",
    "             color='red',label='origin weight',\n",
    "             weights = np.array(df['weight']).reshape(-1,1)) \n",
    "\n",
    "ax2.bar(bins0[1:], (ns1/ns2),width=5)\n",
    "ax3.bar(bins0[1:], (ns1/ns0),width=5)\n",
    "ax4.bar(bins0[1:], (ns2/ns0),width=5)\n",
    "ax1.set_xlim([-10,600])\n",
    "ax2.set_xlim([-10,600])\n",
    "ax3.set_xlim([-10,600])\n",
    "ax4.set_xlim([-10,600])\n",
    "\n",
    "\n",
    "\n",
    "ax1.legend(loc='best')\n",
    "\n",
    "plt.show()"
   ]
  }
 ],
 "metadata": {
  "kernelspec": {
   "display_name": "Python 3",
   "language": "python",
   "name": "python3"
  },
  "language_info": {
   "codemirror_mode": {
    "name": "ipython",
    "version": 3
   },
   "file_extension": ".py",
   "mimetype": "text/x-python",
   "name": "python",
   "nbconvert_exporter": "python",
   "pygments_lexer": "ipython3",
   "version": "3.7.9"
  }
 },
 "nbformat": 4,
 "nbformat_minor": 4
}
