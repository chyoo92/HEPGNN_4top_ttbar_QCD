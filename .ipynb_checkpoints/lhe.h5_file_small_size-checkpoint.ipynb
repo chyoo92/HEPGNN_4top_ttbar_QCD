{
 "cells": [
  {
   "cell_type": "code",
   "execution_count": 2,
   "metadata": {},
   "outputs": [],
   "source": [
    "import h5py\n",
    "import numpy as np\n",
    "import torch\n",
    "from torch.utils.data import Dataset\n",
    "import pandas as pd\n",
    "from torch_geometric.data import InMemoryDataset as PyGDataset, Data as PyGData\n",
    "from bisect import bisect_right\n",
    "import glob\n",
    "import numpy as np\n",
    "import math\n",
    "import os\n",
    "\n"
   ]
  },
  {
   "cell_type": "code",
   "execution_count": 18,
   "metadata": {},
   "outputs": [],
   "source": [
    "save_path = '/store/hep/users/yewzzang/4top_lhe/4top/'\n",
    "path = '/store/hep/users/jhgoh/nurion4hep/20211110_1/graph/*.h5'\n",
    "list_name = glob.glob(path)"
   ]
  },
  {
   "cell_type": "code",
   "execution_count": 8,
   "metadata": {
    "scrolled": true
   },
   "outputs": [],
   "source": [
    "file_list = [file for file in list_name if file.endswith(\".h5\")]"
   ]
  },
  {
   "cell_type": "code",
   "execution_count": null,
   "metadata": {},
   "outputs": [],
   "source": [
    "for i in range(len(file_list)):\n",
    "    file_name = file_list[i]\n",
    "    \n",
    "    file_name = file_list[i]\n",
    "    file = h5py.File(file_name,'r')\n",
    "\n",
    "    out_m = file['events']['m']\n",
    "    out_px = file['events']['px']\n",
    "    out_py = file['events']['py']\n",
    "    out_pz = file['events']['pz']\n",
    "    out_weight = file['events']['weight']\n",
    "    out_weights = file['events']['weights']\n",
    "    out_edge1 = file['graphs']['edge1']\n",
    "    out_edge2 = file['graphs']['edge2']\n",
    "    new_file_name = save_path + file_name.split('/')[-1:][0]\n",
    "    f = h5py.File(new_file_name, mode='w')\n",
    "\n",
    "    dtypeFA = h5py.special_dtype(vlen=np.dtype('float64'))\n",
    "    dtypeIA = h5py.special_dtype(vlen=np.dtype('int32'))\n",
    "\n",
    "    fout_events = fout.create_group(\"events\")\n",
    "    fout_events.create_dataset('weight', data=out_weight, dtype='f4')\n",
    "    fout_events.create_dataset('weights', data=out_weights, dtype='f4')\n",
    "\n",
    "    nEvents = len(out_weight)\n",
    "\n",
    "    fout_events.create_dataset('m', (nEvents,), dtype=dtypeFA)\n",
    "    fout_events.create_dataset('px', (nEvents,), dtype=dtypeFA)\n",
    "    fout_events.create_dataset('py', (nEvents,), dtype=dtypeFA)\n",
    "    fout_events.create_dataset('pz', (nEvents,), dtype=dtypeFA)\n",
    "    fout_events['m'][...] = out_m\n",
    "    fout_events['px'][...] = out_px\n",
    "    fout_events['py'][...] = out_py\n",
    "    fout_events['pz'][...] = out_pz\n",
    "\n",
    "\n",
    "    fout_graphs = fout.create_group('events')\n",
    "    fout_graphs.create_dataset('edge1', (nEvents,), dtype=dtypeIA)\n",
    "    fout_graphs.create_dataset('edge2', (nEvents,), dtype=dtypeIA)\n",
    "    fout_graphs['edge1'][...] = out_edge1\n",
    "    fout_graphs['edge2'][...] = out_edge2\n",
    "\n",
    "\n",
    "\n"
   ]
  },
  {
   "cell_type": "code",
   "execution_count": 9,
   "metadata": {},
   "outputs": [],
   "source": []
  },
  {
   "cell_type": "code",
   "execution_count": 13,
   "metadata": {},
   "outputs": [],
   "source": []
  },
  {
   "cell_type": "code",
   "execution_count": 21,
   "metadata": {},
   "outputs": [],
   "source": []
  },
  {
   "cell_type": "code",
   "execution_count": null,
   "metadata": {},
   "outputs": [],
   "source": []
  },
  {
   "cell_type": "code",
   "execution_count": null,
   "metadata": {},
   "outputs": [],
   "source": []
  },
  {
   "cell_type": "code",
   "execution_count": null,
   "metadata": {},
   "outputs": [],
   "source": []
  },
  {
   "cell_type": "code",
   "execution_count": null,
   "metadata": {},
   "outputs": [],
   "source": []
  }
 ],
 "metadata": {
  "kernelspec": {
   "display_name": "Python 3",
   "language": "python",
   "name": "python3"
  },
  "language_info": {
   "codemirror_mode": {
    "name": "ipython",
    "version": 3
   },
   "file_extension": ".py",
   "mimetype": "text/x-python",
   "name": "python",
   "nbconvert_exporter": "python",
   "pygments_lexer": "ipython3",
   "version": "3.7.9"
  }
 },
 "nbformat": 4,
 "nbformat_minor": 4
}
